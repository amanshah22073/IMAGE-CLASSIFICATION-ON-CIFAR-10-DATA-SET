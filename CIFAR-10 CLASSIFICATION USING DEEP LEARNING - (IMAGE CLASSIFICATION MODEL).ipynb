{
 "cells": [
  {
   "cell_type": "code",
   "execution_count": 1,
   "id": "1d9604e1",
   "metadata": {},
   "outputs": [],
   "source": [
    "import numpy as np\n",
    "import pandas as pd\n",
    "import matplotlib.pyplot as plt\n",
    "import seaborn as sns\n",
    "import tensorflow as tf"
   ]
  },
  {
   "cell_type": "markdown",
   "id": "67ef9044",
   "metadata": {},
   "source": [
    "# Importing data"
   ]
  },
  {
   "cell_type": "code",
   "execution_count": 2,
   "id": "d2683a54",
   "metadata": {},
   "outputs": [],
   "source": [
    "(X_train,y_train) , (X_test,y_test) = tf.keras.datasets.cifar10.load_data()"
   ]
  },
  {
   "cell_type": "code",
   "execution_count": 3,
   "id": "8def40ee",
   "metadata": {},
   "outputs": [
    {
     "data": {
      "text/plain": [
       "(50000, 32, 32, 3)"
      ]
     },
     "execution_count": 3,
     "metadata": {},
     "output_type": "execute_result"
    }
   ],
   "source": [
    "X_train.shape"
   ]
  },
  {
   "cell_type": "markdown",
   "id": "2f67d43c",
   "metadata": {},
   "source": [
    "# Data Visualization"
   ]
  },
  {
   "cell_type": "code",
   "execution_count": 4,
   "id": "229cb34f",
   "metadata": {},
   "outputs": [
    {
     "name": "stdout",
     "output_type": "stream",
     "text": [
      "[6]\n"
     ]
    },
    {
     "data": {
      "image/png": "[encoded data removed]",
      "text/plain": [
       "<Figure size 432x288 with 1 Axes>"
      ]
     },
     "metadata": {
      "needs_background": "light"
     },
     "output_type": "display_data"
    }
   ],
   "source": [
    "i = 4234\n",
    "plt.imshow(X_train[i])\n",
    "print(y_train[i])"
   ]
  },
  {
   "cell_type": "code",
   "execution_count": 5,
   "id": "e8a0070b",
   "metadata": {},
   "outputs": [
    {
     "data": {
      "text/plain": [
       "array([[6],\n",
       "       [9],\n",
       "       [9],\n",
       "       ...,\n",
       "       [9],\n",
       "       [1],\n",
       "       [1]], dtype=uint8)"
      ]
     },
     "execution_count": 5,
     "metadata": {},
     "output_type": "execute_result"
    }
   ],
   "source": [
    "y_train"
   ]
  },
  {
   "cell_type": "markdown",
   "id": "1443d879",
   "metadata": {},
   "source": [
    "# Normalizing the pixel values of images"
   ]
  },
  {
   "cell_type": "code",
   "execution_count": 6,
   "id": "5bfc2569",
   "metadata": {},
   "outputs": [],
   "source": [
    "X_train = X_train/255\n",
    "X_train = X_train.astype('float32')\n",
    "X_test = X_test/255\n",
    "X_test = X_test.astype('float32')"
   ]
  },
  {
   "cell_type": "markdown",
   "id": "30660431",
   "metadata": {},
   "source": [
    "# Converting output into categories"
   ]
  },
  {
   "cell_type": "code",
   "execution_count": 7,
   "id": "f468faf2",
   "metadata": {},
   "outputs": [],
   "source": [
    "num_categories = 10"
   ]
  },
  {
   "cell_type": "code",
   "execution_count": 8,
   "id": "41935e35",
   "metadata": {},
   "outputs": [],
   "source": [
    "import keras\n"
   ]
  },
  {
   "cell_type": "code",
   "execution_count": 9,
   "id": "e1c9349b",
   "metadata": {},
   "outputs": [],
   "source": [
    "y_train = keras.utils.to_categorical(y_train,num_categories)\n",
    "y_test = keras.utils.to_categorical(y_test,num_categories)"
   ]
  },
  {
   "cell_type": "code",
   "execution_count": 10,
   "id": "01418b61",
   "metadata": {},
   "outputs": [
    {
     "data": {
      "text/plain": [
       "(50000, 10)"
      ]
     },
     "execution_count": 10,
     "metadata": {},
     "output_type": "execute_result"
    }
   ],
   "source": [
    "y_train.shape"
   ]
  },
  {
   "cell_type": "code",
   "execution_count": 13,
   "id": "89fc3520",
   "metadata": {},
   "outputs": [
    {
     "data": {
      "text/plain": [
       "(50000, 32, 32, 3)"
      ]
     },
     "execution_count": 13,
     "metadata": {},
     "output_type": "execute_result"
    }
   ],
   "source": [
    "X_train.shape"
   ]
  },
  {
   "cell_type": "markdown",
   "id": "727a3c79",
   "metadata": {},
   "source": [
    "# Creating the CNN Network "
   ]
  },
  {
   "cell_type": "code",
   "execution_count": 16,
   "id": "31e68273",
   "metadata": {},
   "outputs": [
    {
     "name": "stdout",
     "output_type": "stream",
     "text": [
      "Model: \"sequential_3\"\n",
      "_________________________________________________________________\n",
      " Layer (type)                Output Shape              Param #   \n",
      "=================================================================\n",
      " conv2d_10 (Conv2D)          (None, 30, 30, 32)        896       \n",
      "                                                                 \n",
      " conv2d_11 (Conv2D)          (None, 28, 28, 32)        9248      \n",
      "                                                                 \n",
      " max_pooling2d_4 (MaxPooling  (None, 14, 14, 32)       0         \n",
      " 2D)                                                             \n",
      "                                                                 \n",
      " dropout_3 (Dropout)         (None, 14, 14, 32)        0         \n",
      "                                                                 \n",
      " conv2d_12 (Conv2D)          (None, 12, 12, 64)        18496     \n",
      "                                                                 \n",
      " conv2d_13 (Conv2D)          (None, 10, 10, 64)        36928     \n",
      "                                                                 \n",
      " max_pooling2d_5 (MaxPooling  (None, 5, 5, 64)         0         \n",
      " 2D)                                                             \n",
      "                                                                 \n",
      " dropout_4 (Dropout)         (None, 5, 5, 64)          0         \n",
      "                                                                 \n",
      " flatten_1 (Flatten)         (None, 1600)              0         \n",
      "                                                                 \n",
      " dense_2 (Dense)             (None, 1024)              1639424   \n",
      "                                                                 \n",
      " dense_3 (Dense)             (None, 1024)              1049600   \n",
      "                                                                 \n",
      " dense_4 (Dense)             (None, 10)                10250     \n",
      "                                                                 \n",
      "=================================================================\n",
      "Total params: 2,764,842\n",
      "Trainable params: 2,764,842\n",
      "Non-trainable params: 0\n",
      "_________________________________________________________________\n"
     ]
    }
   ],
   "source": [
    "model = tf.keras.models.Sequential()\n",
    "model.add(tf.keras.layers.Conv2D(32,(3,3) ,activation = 'relu' , input_shape = (32,32,3)))\n",
    "model.add(tf.keras.layers.Conv2D(32,(3,3) ,activation = 'relu' ))\n",
    "model.add(tf.keras.layers.MaxPooling2D(2,2))\n",
    "model.add(tf.keras.layers.Dropout(0.1))\n",
    "model.add(tf.keras.layers.Conv2D(64,(3,3) ,activation = 'relu' ))\n",
    "model.add(tf.keras.layers.Conv2D(64,(3,3) ,activation = 'relu' ))\n",
    "model.add(tf.keras.layers.MaxPooling2D(2,2))\n",
    "model.add(tf.keras.layers.Dropout(0.1))\n",
    "model.add(tf.keras.layers.Flatten())\n",
    "model.add(tf.keras.layers.Dense(units=1024 , activation= 'relu'))\n",
    "model.add(tf.keras.layers.Dense(units=1024 , activation= 'relu'))\n",
    "model.add(tf.keras.layers.Dense(units = 10 , activation= 'softmax'))\n",
    "model.summary()\n",
    "\n",
    "          \n",
    "\n",
    "          "
   ]
  },
  {
   "cell_type": "code",
   "execution_count": 17,
   "id": "4f6453de",
   "metadata": {},
   "outputs": [],
   "source": [
    "model.compile(optimizer='Adam' , metrics=['accuracy'] , loss = 'categorical_crossentropy')"
   ]
  },
  {
   "cell_type": "code",
   "execution_count": 18,
   "id": "12fe01f8",
   "metadata": {},
   "outputs": [
    {
     "name": "stdout",
     "output_type": "stream",
     "text": [
      "Epoch 1/20\n",
      "98/98 [==============================] - 60s 605ms/step - loss: 1.7545 - accuracy: 0.3548\n",
      "Epoch 2/20\n",
      "98/98 [==============================] - 59s 597ms/step - loss: 1.3041 - accuracy: 0.5318\n",
      "Epoch 3/20\n",
      "98/98 [==============================] - 59s 599ms/step - loss: 1.0988 - accuracy: 0.6099\n",
      "Epoch 4/20\n",
      "98/98 [==============================] - 59s 598ms/step - loss: 0.9473 - accuracy: 0.6639\n",
      "Epoch 5/20\n",
      "98/98 [==============================] - 58s 596ms/step - loss: 0.8194 - accuracy: 0.7123\n",
      "Epoch 6/20\n",
      "98/98 [==============================] - 59s 602ms/step - loss: 0.7133 - accuracy: 0.7489\n",
      "Epoch 7/20\n",
      "98/98 [==============================] - 59s 597ms/step - loss: 0.6251 - accuracy: 0.7796\n",
      "Epoch 8/20\n",
      "98/98 [==============================] - 59s 599ms/step - loss: 0.5324 - accuracy: 0.8137\n",
      "Epoch 9/20\n",
      "98/98 [==============================] - 60s 610ms/step - loss: 0.4535 - accuracy: 0.8414\n",
      "Epoch 10/20\n",
      "98/98 [==============================] - 59s 607ms/step - loss: 0.3717 - accuracy: 0.8696\n",
      "Epoch 11/20\n",
      "98/98 [==============================] - 60s 612ms/step - loss: 0.3021 - accuracy: 0.8943\n",
      "Epoch 12/20\n",
      "98/98 [==============================] - 60s 608ms/step - loss: 0.2453 - accuracy: 0.9138\n",
      "Epoch 13/20\n",
      "98/98 [==============================] - 83s 852ms/step - loss: 0.1873 - accuracy: 0.9346\n",
      "Epoch 14/20\n",
      "98/98 [==============================] - 66s 676ms/step - loss: 0.1612 - accuracy: 0.9428\n",
      "Epoch 15/20\n",
      "98/98 [==============================] - 56s 570ms/step - loss: 0.1359 - accuracy: 0.9530\n",
      "Epoch 16/20\n",
      "98/98 [==============================] - 56s 573ms/step - loss: 0.1117 - accuracy: 0.9603\n",
      "Epoch 17/20\n",
      "98/98 [==============================] - 60s 608ms/step - loss: 0.1069 - accuracy: 0.9636\n",
      "Epoch 18/20\n",
      "98/98 [==============================] - 56s 570ms/step - loss: 0.0866 - accuracy: 0.9705\n",
      "Epoch 19/20\n",
      "98/98 [==============================] - 56s 570ms/step - loss: 0.0678 - accuracy: 0.9767\n",
      "Epoch 20/20\n",
      "98/98 [==============================] - 56s 570ms/step - loss: 0.0810 - accuracy: 0.9717\n"
     ]
    }
   ],
   "source": [
    "epochs_hist = model.fit(X_train , y_train , epochs = 20 , batch_size = 512)"
   ]
  },
  {
   "cell_type": "markdown",
   "id": "c25989b2",
   "metadata": {},
   "source": [
    "# Evaluating the perfromance of the model"
   ]
  },
  {
   "cell_type": "code",
   "execution_count": 20,
   "id": "57fe92e5",
   "metadata": {},
   "outputs": [
    {
     "name": "stdout",
     "output_type": "stream",
     "text": [
      "313/313 [==============================] - 3s 9ms/step - loss: 1.4498 - accuracy: 0.7338\n",
      "[1.4498363733291626, 0.7337999939918518]\n"
     ]
    }
   ],
   "source": [
    "evaluation = model.evaluate(X_test,y_test)\n",
    "print(evaluation)"
   ]
  },
  {
   "cell_type": "code",
   "execution_count": 28,
   "id": "798accad",
   "metadata": {},
   "outputs": [
    {
     "name": "stdout",
     "output_type": "stream",
     "text": [
      "313/313 [==============================] - 3s 9ms/step\n"
     ]
    }
   ],
   "source": [
    "predicted = model.predict(X_test)\n",
    "predicted = predicted.argmax(1)\n",
    "y_test = y_test.argmax(1)"
   ]
  },
  {
   "cell_type": "code",
   "execution_count": 36,
   "id": "ef998e3d",
   "metadata": {},
   "outputs": [
    {
     "name": "stdout",
     "output_type": "stream",
     "text": [
      "actual: 2 prediction : 6\n"
     ]
    },
    {
     "data": {
      "image/png": "[encoded data removed]",
      "text/plain": [
       "<Figure size 432x288 with 1 Axes>"
      ]
     },
     "metadata": {
      "needs_background": "light"
     },
     "output_type": "display_data"
    }
   ],
   "source": [
    "i =900\n",
    "plt.imshow(X_test[i])\n",
    "print(\"actual:\", y_test[i] ,\"prediction :\", predicted[i])"
   ]
  },
  {
   "cell_type": "code",
   "execution_count": null,
   "id": "e9e9deae",
   "metadata": {},
   "outputs": [],
   "source": []
  }
 ],
 "metadata": {
  "kernelspec": {
   "display_name": "Python 3 (ipykernel)",
   "language": "python",
   "name": "python3"
  },
  "language_info": {
   "codemirror_mode": {
    "name": "ipython",
    "version": 3
   },
   "file_extension": ".py",
   "mimetype": "text/x-python",
   "name": "python",
   "nbconvert_exporter": "python",
   "pygments_lexer": "ipython3",
   "version": "3.9.7"
  }
 },
 "nbformat": 4,
 "nbformat_minor": 5
}
